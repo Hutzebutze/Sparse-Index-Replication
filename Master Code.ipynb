{
 "cells": [
  {
   "cell_type": "markdown",
   "metadata": {},
   "source": [
    "## Laden standard Packages"
   ]
  },
  {
   "cell_type": "code",
   "execution_count": null,
   "metadata": {},
   "outputs": [],
   "source": [
    "import pandas as pd\n",
    "import numpy as np\n",
    "from numpy.linalg import norm\n",
    "import matplotlib.pyplot as plt\n",
    "import matplotlib.dates as dates\n",
    "%matplotlib inline\n",
    "import math\n",
    "from dateutil.relativedelta import relativedelta"
   ]
  },
  {
   "cell_type": "markdown",
   "metadata": {},
   "source": [
    "## Datenaufbereitung\n"
   ]
  },
  {
   "cell_type": "code",
   "execution_count": null,
   "metadata": {},
   "outputs": [],
   "source": [
    "# Laden der Daten\n",
    "import os\n",
    "\n",
    "data_path='/domino/datasets/local/TestData/iboxx_eur/'\n",
    "\n",
    "## Komponenten als monatsweises Dictionary von DataFrames \n",
    "\n",
    "comp_list=os.listdir(data_path+'Components/')\n",
    "\n",
    "comp={}\n",
    "\n",
    "for file in comp_list:\n",
    "    comp[file[-10:-4]]=pd.read_csv(data_path+'Components/'+file,encoding='latin_1')\n",
    "\n",
    "\n",
    "## Indizes als ein GesamtDataframe auf täglicher Basis\n",
    "\n",
    "indices_list=os.listdir(data_path+'Indices')\n",
    "\n",
    "indices={}\n",
    "\n",
    "for file in indices_list:\n",
    "    indices[file[-12:-4]]=pd.read_csv(data_path+'Indices/'+file,encoding='latin_1')\n",
    "\n",
    "i=0\n",
    "\n",
    "for days in indices:\n",
    "    if i==0:\n",
    "        indices_df=pd.DataFrame(indices[days])\n",
    "    else:\n",
    "        indices_df=indices_df.append(indices[days],ignore_index=True)\n",
    "    i=i+1\n",
    "\n",
    "## Underlyings als ein GesamtDataframe auf täglicher Basis\n",
    "\n",
    "underlyings_list=os.listdir(data_path+'Underlyings')\n",
    "\n",
    "underlyings={}\n",
    "\n",
    "for file in underlyings_list:\n",
    "    underlyings[file[-12:-4]]=pd.read_csv(data_path+'Underlyings/'+file,encoding='latin_1')\n",
    "\n",
    "## Underlyings als ein GesamtDataframe auf täglicher Basis\n",
    "\n",
    "underlyings_list=os.listdir(data_path+'Underlyings')\n",
    "\n",
    "underlyings={}\n",
    "\n",
    "for file in underlyings_list:\n",
    "    underlyings[file[-12:-4]]=pd.read_csv(data_path+'Underlyings/'+file,encoding='latin_1')\n",
    "    \n",
    "underlyings_df=pd.DataFrame()\n",
    "\n",
    "for days in underlyings:\n",
    "    underlyings_df=underlyings_df.append(underlyings[days][['Date','ISIN','Index Price','Daily Return']],ignore_index=True)"
   ]
  },
  {
   "cell_type": "markdown",
   "metadata": {},
   "source": [
    "## Abtrennung Trainingsdatensatz"
   ]
  },
  {
   "cell_type": "code",
   "execution_count": null,
   "metadata": {},
   "outputs": [],
   "source": [
    "Startdatum='2019-12-01'\n",
    "Enddatum='2021-03-31'\n",
    "\n",
    "IndexISIN='DE0009682716'\n",
    "\n",
    "N=50\n",
    "\n",
    "IndexDaten=indices_df[(indices_df['ISIN_TRi']==IndexISIN) & \n",
    "                      (indices_df['Date']>=Startdatum) & \n",
    "                      (indices_df['Date']<=Enddatum)].sort_values('Date',ignore_index=True)\n",
    "UnderlyingDaten=underlyings_df[(underlyings_df['Date']>=Startdatum) & \n",
    "                      (underlyings_df['Date']<=Enddatum)].sort_values(['Date','ISIN'],ignore_index=True)\n"
   ]
  },
  {
   "cell_type": "markdown",
   "metadata": {},
   "source": [
    "## Funktion zur Bestimmung der Startkomponenten"
   ]
  },
  {
   "cell_type": "code",
   "execution_count": null,
   "metadata": {},
   "outputs": [],
   "source": [
    "def StartComp(N=30,Components=comp,Year=2020,Month=11):\n",
    "    key=str(Year)\n",
    "    \n",
    "    if len(str(Month))==2:\n",
    "        key=key+str(Month)\n",
    "    else:\n",
    "        key=key+'0'+str(Month)\n",
    "        \n",
    "        ISIN_Set=set(Components[key].sort_values('Index Weight').iloc[0:N]['ISIN'])\n",
    "        \n",
    "        Weights=np.array(Components[key]['Index Weight'])\n",
    "        \n",
    "        w=np.where(np.isin(Weights,np.array(Components[key].sort_values('Index Weight').iloc[0:N]['Index Weight'])),Weights,0)\n",
    "        w=w/w.sum()\n",
    "    \n",
    "    return (ISIN_Set,w)"
   ]
  },
  {
   "cell_type": "markdown",
   "metadata": {},
   "source": [
    "## Optimierung über non negative least squares (NNLS)"
   ]
  },
  {
   "cell_type": "markdown",
   "metadata": {},
   "source": [
    "Optimierungsproblem: Minimiere Tracking Error unter den Nebenbedingungen, dass die Gewichte größer als 0 sein müssen und nur ein Teil der Komponenten verwendet werden sollen um Kosten zu sparen.\n",
    "Aufbau: Anhand der Daten der letzten Monate werden die Gewichte für den kommenden Monat geschätzt.\n",
    "\n"
   ]
  },
  {
   "cell_type": "code",
   "execution_count": null,
   "metadata": {},
   "outputs": [],
   "source": [
    "from scipy.optimize import nnls"
   ]
  },
  {
   "cell_type": "markdown",
   "metadata": {},
   "source": [
    "#### Bestimme Monat in n Monaten"
   ]
  },
  {
   "cell_type": "code",
   "execution_count": null,
   "metadata": {},
   "outputs": [],
   "source": [
    "def MonthDelta(Year,Month,n):\n",
    "    \n",
    "    Month_new=Month+n\n",
    "    \n",
    "    if Month_new>12 or Month_new<1:\n",
    "        Month=Month_new%12\n",
    "        Year=Year+Month_new//12\n",
    "        if Month==0:\n",
    "            Month=12\n",
    "            Year=Year-1\n",
    "    else:\n",
    "        Month=Month_new\n",
    "    \n",
    "    return (Year,Month)"
   ]
  },
  {
   "cell_type": "markdown",
   "metadata": {},
   "source": [
    "### Einfache optimierung über Preis"
   ]
  },
  {
   "cell_type": "markdown",
   "metadata": {},
   "source": [
    "Funktionen erlauben ein Optimierung über eine Periode und deren iterative Verwendung"
   ]
  },
  {
   "cell_type": "code",
   "execution_count": null,
   "metadata": {},
   "outputs": [],
   "source": [
    "def SinglePeriodPrice(N,Components,Index,Underlying,Year,Month,NMonth=6,i=0):\n",
    "    ActComp=StartComp(N,Components,Year,Month)\n",
    "    #print(Year,'-',Month,':',ActComp)\n",
    "    \n",
    "    IndexPrice=Index[['Date','Gross Price Index']].set_index('Date')\n",
    "    UnderlyingPrice=Underlying[Underlying['ISIN'] \\\n",
    "                               .isin(ActComp)][['Date','ISIN','Index Price']] \\\n",
    "                               .pivot(index='Date',columns='ISIN',values='Index Price')\n",
    "    \n",
    "    Prices=pd.merge(IndexPrice,UnderlyingPrice,left_index=True,right_index=True)\n",
    "    Prices=Prices.fillna(method='ffill',axis=0).fillna(method='bfill',axis=0)\n",
    "    (YearTrain,MonthTrain)=MonthDelta(Year,Month,-NMonth)\n",
    "    Prices_train=Prices[((pd.to_datetime(Prices.index).year<Year)| \\\n",
    "                  ((pd.to_datetime(Prices.index).month<=Month) & (pd.to_datetime(Prices.index).year==Year))) & \\\n",
    "                       ((pd.to_datetime(Prices.index).year>YearTrain)| \\\n",
    "                  ((pd.to_datetime(Prices.index).month>=MonthTrain) & (pd.to_datetime(Prices.index).year==YearTrain)))]\n",
    "    (YearTest,MonthTest)=MonthDelta(Year,Month,1)\n",
    "    Prices_test=Prices[(~Prices.index.isin(Prices_train.index)) & \\\n",
    "                       (pd.to_datetime(Prices.index).month==MonthTest) & \\\n",
    "                       (pd.to_datetime(Prices.index).year==YearTest)]\n",
    "    \n",
    "    \n",
    "    b=np.array(Prices_train.iloc[:,0])\n",
    "    A=np.array(Prices_train.iloc[:,1:N+1])\n",
    "    \n",
    "    (x, rnorm)=nnls(A,b)\n",
    "    \n",
    "    # Testnorm\n",
    "    \n",
    "    b=np.array(Prices_test.iloc[:,0])\n",
    "    A=np.array(Prices_test.iloc[:,1:N+1])\n",
    "    \n",
    "    print('Test'+str(Year)+str(Month)+':'+str(norm(A@x-b)))\n",
    "    \n",
    "    #Plot\n",
    "    \n",
    "    #b=np.append(b,np.array(Prices_test.iloc[:,0]))\n",
    "    #A=np.append(A,np.array(Prices_test.iloc[:,1:N+1]),axis=0)\n",
    "    \n",
    "    b=np.array(Prices.iloc[:,0])\n",
    "    A=np.array(Prices.iloc[:,1:N+1])\n",
    "    r=np.array(pd.to_datetime(Prices.index))\n",
    "    vert1=pd.to_datetime(Prices_train.index[0])\n",
    "    vert2=pd.to_datetime(Prices_train.index[-1])\n",
    "\n",
    "    #print(pd.to_datetime(Prices_train.index[-1]),'-',pd.to_datetime(Prices.index[0]))\n",
    "    #print(vert)\n",
    "    \n",
    "    #r=range(b.shape[0])\n",
    "\n",
    "    plt.figure(i,figsize=(15,5))\n",
    "    plt.plot(r,A@x, label='rebuild')\n",
    "    plt.plot(r,b, label='original')\n",
    "    plt.axvline(vert1)\n",
    "    plt.axvline(vert2)\n",
    "    plt.legend()\n",
    "    plt.title(str(Year)+'_'+str(Month))\n",
    "    \n",
    "    return {'TE':{str(Year)+'-'+str(Month):rnorm},'Weights':pd.DataFrame(x,index=UnderlyingPrice.columns,columns=[str(Year)+'-'+str(Month)])}\n",
    "\n",
    "def MultiPeriodPrice(N,Components,Index,Underlying,NMonth=6):\n",
    "    i=0\n",
    "    j=0\n",
    "    for YearMonth in Components.keys():\n",
    "        #print(YearMonth)\n",
    "        Year=int(YearMonth[0:4])\n",
    "        #print(Year)\n",
    "        Month=int(YearMonth[4:6])\n",
    "        #print(Month)\n",
    "        if j>=NMonth:\n",
    "            ActDict=SinglePeriodPrice(N,Components,Index,Underlying,Year,Month,NMonth,i)\n",
    "            if i==0:\n",
    "                ResDict=ActDict\n",
    "            else:\n",
    "                ResDict['TE'].update(ActDict['TE'])\n",
    "                ResDict['Weights']=pd.merge(ResDict['Weights'],ActDict['Weights'], \\\n",
    "                               how='outer',left_index=True,right_index=True)\n",
    "            i=i+1\n",
    "            #print(ResDict)\n",
    "        j=j+1\n",
    "        \n",
    "    \n",
    "    return ResDict"
   ]
  },
  {
   "cell_type": "markdown",
   "metadata": {},
   "source": [
    "#### Einfache Optimierung über Return"
   ]
  },
  {
   "cell_type": "markdown",
   "metadata": {},
   "source": [
    "Funktion zur Bestimmung des Returns über Zeitraum"
   ]
  },
  {
   "cell_type": "code",
   "execution_count": null,
   "metadata": {},
   "outputs": [],
   "source": [
    "def Perform(r,Start=100):\n",
    "    i=0\n",
    "    Result=np.empty(1)\n",
    "    for r_i in r:\n",
    "        if i==0:\n",
    "            p_i=Start*(1+r_i)\n",
    "            Result=np.array(p_i)\n",
    "        else:\n",
    "            p_i=p_i*(1+r_i)\n",
    "            Result=np.append(Result,p_i)\n",
    "        i=i+1\n",
    "        #print(str(r_i)+'->'+str(p_i))\n",
    "    return Result"
   ]
  },
  {
   "cell_type": "code",
   "execution_count": null,
   "metadata": {},
   "outputs": [],
   "source": [
    "def SinglePeriodReturn(N,Components,Index,Underlying,Year,Month,NMonth=6,i=0):\n",
    "    ActComp=StartComp(N,Components,Year,Month)\n",
    "    #print(Year,'-',Month,':',ActComp)\n",
    "    \n",
    "    IndexReturn=Index[['Date','Daily Return']].set_index('Date')\n",
    "    UnderlyingReturn=Underlying[Underlying['ISIN'] \\\n",
    "                               .isin(ActComp)][['Date','ISIN','Daily Return']] \\\n",
    "                               .pivot(index='Date',columns='ISIN',values='Daily Return')\n",
    "    \n",
    "    Returns=pd.merge(IndexReturn,UnderlyingReturn,left_index=True,right_index=True)\n",
    "    Returns=Returns.fillna(value=0)\n",
    "    (YearTrain,MonthTrain)=MonthDelta(Year,Month,-NMonth+1)\n",
    "    Returns_train=Returns[((pd.to_datetime(Returns.index).year<Year)| \\\n",
    "                  ((pd.to_datetime(Returns.index).month<=Month) & (pd.to_datetime(Returns.index).year==Year))) & \\\n",
    "                       ((pd.to_datetime(Returns.index).year>YearTrain)| \\\n",
    "                  ((pd.to_datetime(Returns.index).month>=MonthTrain) & (pd.to_datetime(Returns.index).year==YearTrain)))]\n",
    "    (YearTest,MonthTest)=MonthDelta(Year,Month,1)\n",
    "    #print(YearTest)\n",
    "    #print(MonthTest)\n",
    "    Returns_test=Returns[(~Returns.index.isin(Returns_train.index)) & \\\n",
    "                       (pd.to_datetime(Returns.index).month==MonthTest) & \\\n",
    "                       (pd.to_datetime(Returns.index).year==YearTest)]\n",
    "    \n",
    "    \n",
    "    b=np.array(Returns_train.iloc[:,0])\n",
    "    A=np.array(Returns_train.iloc[:,1:N+1])\n",
    "    \n",
    "    vert=b.shape[0]\n",
    "    \n",
    "    (x, rnorm)=nnls(A,b)\n",
    "    \n",
    "    # Testnorm\n",
    "    \n",
    "    b=np.array(Returns_test.iloc[:,0])\n",
    "    A=np.array(Returns_test.iloc[:,1:N+1])\n",
    "    \n",
    "    print('Test'+str(Year)+str(Month)+':'+str(norm(A@x-b)))\n",
    "    \n",
    "    #Plot\n",
    "    \n",
    "    #b=np.append(b,np.array(Returns_test.iloc[:,0]))\n",
    "    #A=np.append(A,np.array(Returns_test.iloc[:,1:N+1]),axis=0)\n",
    "    \n",
    "    b=np.array(Returns.iloc[:,0])\n",
    "    A=np.array(Returns.iloc[:,1:N+1])\n",
    "    r=np.array(pd.to_datetime(Returns.index))\n",
    "    vert1=pd.to_datetime(Returns_train.index[0])\n",
    "    vert2=pd.to_datetime(Returns_train.index[-1])\n",
    "\n",
    "    #print(pd.to_datetime(Returns_train.index[-1]),'-',pd.to_datetime(Returns.index[0]))\n",
    "    #print(vert)\n",
    "    \n",
    "    #r=range(b.shape[0])\n",
    "\n",
    "    plt.figure(i,figsize=(15,5))\n",
    "    plt.plot(r,Perform(A@x), label='rebuild')\n",
    "    plt.plot(r,Perform(b), label='original')\n",
    "    plt.axvline(vert1)\n",
    "    plt.axvline(vert2)\n",
    "    plt.legend()\n",
    "    plt.title(str(Year)+'_'+str(Month))\n",
    "    \n",
    "    return {'TE':{str(Year)+'-'+str(Month):rnorm},'Weights':pd.DataFrame(x,index=UnderlyingReturn.columns,columns=[str(Year)+'-'+str(Month)])}\n",
    "\n",
    "def MultiPeriodReturn(N,Components,Index,Underlying,NMonth=6):\n",
    "    i=0\n",
    "    j=0\n",
    "    for YearMonth in Components.keys():\n",
    "        #print(YearMonth)\n",
    "        Year=int(YearMonth[0:4])\n",
    "        #print(Year)\n",
    "        Month=int(YearMonth[4:6])\n",
    "        #print(Month)\n",
    "        if j>=NMonth:\n",
    "            ActDict=SinglePeriodReturn(N,Components,Index,Underlying,Year,Month,NMonth,i)\n",
    "            if i==0:\n",
    "                ResDict=ActDict\n",
    "            else:\n",
    "                ResDict['TE'].update(ActDict['TE'])\n",
    "                ResDict['Weights']=pd.merge(ResDict['Weights'],ActDict['Weights'], \\\n",
    "                               how='outer',left_index=True,right_index=True)\n",
    "            i=i+1\n",
    "            #print(ResDict)\n",
    "        j=j+1\n",
    "        \n",
    "    \n",
    "    return ResDict\n",
    "    "
   ]
  },
  {
   "cell_type": "markdown",
   "metadata": {},
   "source": [
    "### LAIT - Linear Approximation for Index Tracking Problem"
   ]
  },
  {
   "cell_type": "code",
   "execution_count": null,
   "metadata": {},
   "outputs": [],
   "source": [
    "import math\n",
    "\n",
    "def d (gamma,p,w):\n",
    "    return 1/math.log(1+gamma/p)/(p+w)\n",
    "\n",
    "def LAIT (CompPrice,IndexPrice,w0=None,maxiter=1000,eps=1e-9,p=1e-6,gamma=0.2,lamb=0.5):\n",
    "    \n",
    "    T,n=CompPrice.shape\n",
    "    \n",
    "    if w0 is None:\n",
    "        w=np.ones(n) \n",
    "        w=w/w.sum() # equal weights for every component\n",
    "    else:\n",
    "        if pd.isna(w0):\n",
    "            raise ValueError('NaNs in start vector')\n",
    "        else:\n",
    "            w=w0\n",
    "    \n",
    "    # Zählvariable definieren\n",
    "    k=0\n",
    "    # conv soll die Verbesserung der Zielfunktion messen\n",
    "    conv=eps\n",
    "    TE_last=norm(CompPrice@w-IndexPrice)\n",
    "    \n",
    "    dv = lambda x: d(gamma,p,x)\n",
    "        \n",
    "    while (conv>=eps) & (k<=maxiter):\n",
    "        c=dv(w)\n",
    "        b=np.concatenate((IndexPrice,np.zeros(w.shape)),axis=None)\n",
    "        A=np.concatenate((CompPrice,lamb*np.diag(c)),axis=0)\n",
    "        \n",
    "        w,TE=nnls(A,b)\n",
    "        \n",
    "        print('Iteration: ',k,'-->TE:',TE)\n",
    "        \n",
    "        conv=abs(TE-TE_last)\n",
    "        \n",
    "        TE_last=TE\n",
    "        k=k+1\n",
    "    \n",
    "    return (w,TE)\n",
    "        "
   ]
  },
  {
   "cell_type": "markdown",
   "metadata": {},
   "source": [
    "Vorbereitung Anwendung"
   ]
  },
  {
   "cell_type": "markdown",
   "metadata": {
    "scrolled": true
   },
   "source": [
    "Components=UnderlyingDaten\n",
    "Components=Components.set_index(pd.to_datetime(Components.Date)).drop('Date',axis=1)\n",
    "Components=Components[(Components.index.year==2021) & (Components.index.month ==1)]\n",
    "#Components=Components.pivot(index='Date',columns='ISIN',values='Index Price')\n",
    "\n",
    "Index=IndexDaten.set_index(pd.to_datetime(IndexDaten.Date)).drop('Date',axis=1)\n",
    "Index=Index[(Index.index.year==2021) & (Index.index.month == 1)]\n",
    "#Index=np.array(Index['Gross Price Index'])\n",
    "\n",
    "ActComp=np.random.rand(Components.shape[1])\n",
    "ActComp=ActComp/ActComp.sum()"
   ]
  },
  {
   "cell_type": "markdown",
   "metadata": {
    "scrolled": true
   },
   "source": [
    "CompReturn=UnderlyingDaten[['Date','ISIN','Daily Return']]\n",
    "CompReturn=CompReturn.set_index(pd.to_datetime(CompReturn.Date))\n",
    "CompReturn=CompReturn[(CompReturn.index.year==2020) & (CompReturn.index.month == 1)]\n",
    "CompReturn=CompReturn.pivot(index='Date',columns='ISIN',values='Daily Return')\n",
    "CompReturn=np.array(CompReturn)\n",
    "\n",
    "IndexReturn=IndexDaten.set_index(pd.to_datetime(IndexDaten.Date))\n",
    "IndexReturn=IndexReturn[(IndexReturn.index.year==2020) & (IndexReturn.index.month == 1)]\n",
    "IndexReturn=np.array(IndexReturn['Daily Return'])\n",
    "\n",
    "ActComp=np.random.rand(CompReturn.shape[1])\n",
    "ActComp=ActComp/ActComp.sum()"
   ]
  },
  {
   "cell_type": "markdown",
   "metadata": {},
   "source": [
    "w_LAIT,TE_LAIT=LAIT(CompReturn,IndexReturn)"
   ]
  },
  {
   "cell_type": "markdown",
   "metadata": {},
   "source": [
    "### SLAIT - Specialized LAIT with upper bound"
   ]
  },
  {
   "cell_type": "code",
   "execution_count": null,
   "metadata": {},
   "outputs": [],
   "source": [
    "def a_HETE(x,M=0.1):\n",
    "    if abs(x)<=M:\n",
    "        return 1\n",
    "    else:\n",
    "        return M/abs(x)\n",
    "\n",
    "def b_HETE(x,M=0.1):\n",
    "    if abs(x)<=M:\n",
    "        return 0\n",
    "    else:\n",
    "        return M(abs(x)-M)\n",
    "\n",
    "def b_HDR(x,M=0.1):\n",
    "    if x<=M:\n",
    "        return 0\n",
    "    else:\n",
    "        return M(abs(x)-M)\n",
    "    \n",
    "def a_HDR(x,M=0.1):\n",
    "    if x<0:\n",
    "        return M/(M-2*x)\n",
    "    elif x<=M:\n",
    "        return 1\n",
    "    else:\n",
    "        return M/abs(x)\n",
    "\n",
    "def c(x):\n",
    "    if x<0:\n",
    "        return x\n",
    "    else:\n",
    "        return 0\n",
    "\n",
    "def d (gamma,p,w):\n",
    "    return 1/math.log(1+gamma/p)/(p+w)\n",
    "    \n",
    "def A(q,u=1,maxiter=1000):\n",
    "    print('Start binary search')\n",
    "    \n",
    "    # indirect sort of q\n",
    "    q_sortindex=q.argsort()\n",
    "    \n",
    "    i=1\n",
    "    a=1\n",
    "    e=len(q)\n",
    "    K=(a+e)//2\n",
    "    mue=-(q[q_sortindex[range(K-1)]].sum()+2)/(K)\n",
    "    A=(mue+q)<0\n",
    "    w=-(mue*np.ones(len(q))+q)/2\n",
    "    #print(A.sum(),'==',K,'-- a=',a,' und e=',e)\n",
    "        \n",
    "    while (A.sum()!=K) & (i<=maxiter):\n",
    "        i=i+1\n",
    "        if A.sum()>K:\n",
    "            a=K+1\n",
    "            K=(a+e)//2\n",
    "        else:\n",
    "            e=K-1\n",
    "            K=(a+e)//2\n",
    "        mue=-(q[q_sortindex[range(K-1)]].sum()+2)/(K)\n",
    "        A=(mue+q)<0\n",
    "        #print(A.sum(),'==',K,'-- a=',a,' und e=',e)\n",
    "        if A.sum()==K or e<a or i>maxiter:\n",
    "            w=-(mue*np.ones(len(q))+q)/2\n",
    "            break\n",
    "        elif A.sum()==0:\n",
    "             raise ValueError('Only zero weights')\n",
    "        \n",
    "    print('Found optimal K without upper bound. ',(w>u).sum(),' components above upper bound')\n",
    "        \n",
    "    if (u<1) & (u>0) & ((w>u).sum()>0):\n",
    "        \n",
    "        print('Start combined binary search')\n",
    "        \n",
    "        if 1/u>len(q):\n",
    "            raise ValueError('upper bound too low')\n",
    "            \n",
    "        c=q+2*u\n",
    "        \n",
    "        for k in np.arange(K,len(q)+1):\n",
    "            #print('K_opt == ',k)\n",
    "            i=1\n",
    "            a=1\n",
    "            e=k\n",
    "            K1=(a+e)//2\n",
    "            K2=k-K1            \n",
    "        \n",
    "            mue=-(q[q_sortindex[K1:k-1]].sum()-2*K1*u+2)/K2\n",
    "            B1=(mue+c)<=0\n",
    "            B2=(0<mue+c) & (mue+c<2*u)\n",
    "            \n",
    "            #print(B1.sum(),'==',K1,' -- ',B2.sum(),'==',K2,'-- a=',a,' und e=',e)\n",
    "\n",
    "            while (a<=e):\n",
    "                \n",
    "                i=i+1\n",
    "                \n",
    "                if B1.sum()>K1:\n",
    "                    a=K1+1\n",
    "                    K1=(a+e)//2\n",
    "                    K2=k-K1 \n",
    "                else:\n",
    "                    e=K1-1\n",
    "                    K1=(a+e)//2\n",
    "                    K2=k-K1 \n",
    "                \n",
    "                mue=-(q[q_sortindex[K1:k-1]].sum()-2*K1*u+2)/K2\n",
    "                B1=(mue+c)<=0\n",
    "                B2=(0<mue+c) & (mue+c<2*u)\n",
    "                \n",
    "                #print(B1.sum(),'==',K1,' -- ',B2.sum(),'==',K2,'-- a=',a,' und e=',e)\n",
    "\n",
    "                if (B1.sum()==K1) & (B2.sum()==K2):\n",
    "                    w=np.minimum(-(mue*np.ones(len(q))+q)/2,u*np.ones(len(q)))\n",
    "                    break\n",
    "                #elif (B1.sum()==0) | (B2.sum()==0):\n",
    "                    #raise ValueError('Only zero weights')\n",
    "            \n",
    "            if (B1.sum()==K1) & (B2.sum()==K2):\n",
    "                break\n",
    "        if ((B1.sum()!=K1) or (B2.sum()!=K2)):\n",
    "            w[q_sortindex[range(math.ceil(1/u))]]=u\n",
    "            w=w/w.sum()\n",
    "    \n",
    "    return np.maximum(w,0)\n",
    "\n",
    "av_HETE=np.vectorize(a_HETE)\n",
    "av_HDR=np.vectorize(a_HDR)\n",
    "bv_HETE=np.vectorize(b_HETE)\n",
    "bv_HDR=np.vectorize(b_HDR)\n",
    "cv=np.vectorize(c)\n",
    "dv=np.vectorize(d) "
   ]
  },
  {
   "cell_type": "code",
   "execution_count": null,
   "metadata": {},
   "outputs": [],
   "source": [
    "def SLAIT(X,r,lamb=1e-7,u=1,maxiter=1000,measure='ETE',eps=1e-9,w0=None,M=None,gamma=0.2,p=1e-6,thres=1e-3,ret=False):\n",
    "    \n",
    "    ################# error control ########################\n",
    "    IDs=X.keys()\n",
    "    X=np.array(X)\n",
    "    r=np.array(r)\n",
    "    T,n=X.shape # T is days, n number of constituents\n",
    "    if n==1:\n",
    "        raise ValueError('Data is univariate!')\n",
    "    if pd.isna(X).sum()>0|pd.isna(r).sum()>0|pd.isna(lamb)|pd.isna(u):\n",
    "        raise ValueError('Some arguments contain NaNs')\n",
    "    if (measure in ['HETE','HDR'])&(pd.isnull(M)|(M<=0)):\n",
    "        raise ValueError('The huber parameter should be positive')\n",
    "    if (u>1)|(u<=0):\n",
    "        raise ValueError('upper bound not in range (0,1]')\n",
    "    if measure not in ['ETE','HETE','DR','HDR']:\n",
    "        raise ValueError(measure,' is no valid measure!')\n",
    "    ########################################################\n",
    "    \n",
    "    if w0 is None:\n",
    "        w=np.ones(n) \n",
    "        w=w/w.sum() # equal weights for every component\n",
    "    else:\n",
    "        if np.isnan(w0).any():\n",
    "            raise ValueError('NaNs in start vector')\n",
    "        else:\n",
    "            w=w0\n",
    "    \n",
    "    k=0\n",
    "    conv=eps\n",
    "    \n",
    "    if measure in ['ETE','DR']: \n",
    "        L1=(X.T@X)/T\n",
    "        lamb_max=np.linalg.eigvalsh(L1).max()\n",
    "    \n",
    "    elif measure in ['HETE','HDR']:\n",
    "        av=av_HETE(r-X@w)\n",
    "        aDiag=np.eye(T)\n",
    "        np.fill_diagonal(aDiag,av)\n",
    "        L2=(X.T@aDiag@X)/T\n",
    "        lamb_max=np.linalg.eigvalsh(L2).max()\n",
    "    \n",
    "    while (conv>=eps) & (k<=maxiter):\n",
    "        if measure=='ETE':\n",
    "            q=(2*(L1-lamb_max*np.eye(n))@w+lamb*dv(gamma,p,w)-2/T*X.T@r)/lamb_max\n",
    "        elif measure=='DR':\n",
    "            y=-np.maximum(X@w-r,0)\n",
    "            q=(2*(L1-lamb_max*np.eye(n))@w+lamb*dv(gamma,p,w)-2/T*X.T@(y-r))/lamb_max\n",
    "        elif measure=='HETE':\n",
    "            av=av_HETE(r-X@w)\n",
    "            aDiag=np.eye(T)\n",
    "            np.fill_diagonal(aDiag,av)\n",
    "            q=(2*(L2-lamb_max*np.eye(n))@w+lamb*dv(gamma,p,w)-2/T*X.T@aDiag@r)/lamb_max\n",
    "        else:\n",
    "            av=av_HDR(r-X@w)\n",
    "            aDiag=np.eye(T)\n",
    "            np.fill_diagonal(aDiag,av)\n",
    "            L3=X.T@aDiag@X/T\n",
    "            lamb_max=np.linalg.eigvalsh(L3).max()\n",
    "            q=(2*(L3-lamb_max*np.eye(n))@w+lamb*dv(gamma,p,w)-2/T*X.T@aDiag@(cv(r-X@w-r)))/lamb_max\n",
    "        w0=w\n",
    "        w=A(q,u,maxiter)\n",
    "        #conv=norm(w0-w)\n",
    "        k=k+1\n",
    "        \n",
    "        #Needs python 3.10 \n",
    "        #match measure:\n",
    "            #case 'ETE':\n",
    "            #    print('Iteration: ',k,'--> Zielfunktion: ',ETE(X,r,w),' and w: ',w)\n",
    "            #case 'DR':\n",
    "            #    print('Iteration: ',k,'--> Zielfunktion: ',DR(X,r,w),' and w: ',w)\n",
    "            #case 'HETE':\n",
    "            #    print('Iteration: ',k,'--> Zielfunktion: ',HETE(X,r,w,M),' and w: ',w)\n",
    "            #case 'HDR':\n",
    "            #    print('Iteration: ',k,'--> Zielfunktion: ',HDR(X,r,w,M),' and w: ',w)\n",
    "        \n",
    "        if measure=='ETE':\n",
    "            print('Iteration: ',k,'--> Zielfunktion: ',ETE(X,r,w),' and w: ',w)\n",
    "            conv=abs(ETE(X,r,w0)-ETE(X,r,w))\n",
    "        elif measure=='DR':\n",
    "            print('Iteration: ',k,'--> Zielfunktion: ',DR(X,r,w),' and w: ',w)\n",
    "            conv=abs(DR(X,r,w0)-DR(X,r,w))\n",
    "        elif measure=='HETE':\n",
    "            print('Iteration: ',k,'--> Zielfunktion: ',HETE(X,r,w,M),' and w: ',w)\n",
    "            conv=abs(HETE(X,r,w0)-HETE(X,r,w))\n",
    "        else:\n",
    "            print('Iteration: ',k,'--> Zielfunktion: ',HDR(X,r,w,M),' and w: ',w)\n",
    "            conv=abs(HDR(X,r,w0)-HDR(X,r,w))\n",
    "            \n",
    "    if w.max()>thres:\n",
    "        w=np.where(w<thres,0,w)\n",
    "    w=np.nan_to_num(w)\n",
    "    w=w/w.sum()\n",
    "    \n",
    "    W=pd.DataFrame({'ISIN':IDs,'Weight':w})\n",
    "                \n",
    "    return W\n",
    "\n",
    "def ETE(X,r,w):\n",
    "    T,n=X.shape\n",
    "    return norm(X@w-r)**2/T\n",
    "\n",
    "def DR(X,r,w):\n",
    "    T,n=X.shape\n",
    "    return norm(np.maximum(r-X@w,0))**2/T\n",
    "\n",
    "def phi(x,M):\n",
    "    if x<=abs(M):\n",
    "        return x**2\n",
    "    else:\n",
    "        return M*(2*abs(x)-M)\n",
    "    \n",
    "phiv=np.vectorize(phi)\n",
    "\n",
    "def HETE(X,r,w,M):\n",
    "    T,n=X.shape\n",
    "    return np.ones(T).T@phiv(X@w-r,M)/T\n",
    "\n",
    "def HDR(X,r,w,M):\n",
    "    T,n=X.shape\n",
    "    return np.ones(T).T@phiv(np.maximum(r-X@w,0),M)/T"
   ]
  },
  {
   "cell_type": "code",
   "execution_count": null,
   "metadata": {},
   "outputs": [],
   "source": [
    "from platform import python_version\n",
    "\n",
    "print(python_version())"
   ]
  },
  {
   "cell_type": "code",
   "execution_count": null,
   "metadata": {},
   "outputs": [],
   "source": [
    "def plot_replicated(w,Index,Comp,Ret=True,Start=100):\n",
    "    plt.figure(i,figsize=(15,5))\n",
    "\n",
    "    \n",
    "    return_reb=Comp@w\n",
    "    return_org=Index\n",
    "    \n",
    "    r=range(len(return_reb))\n",
    "    \n",
    "    if Ret==False:\n",
    "        price_reb=return_reb\n",
    "        price_org=return_org\n",
    "        return_reb=np.zeros(len(price_reb))\n",
    "        return_org=np.zeros(len(price_reb))\n",
    "        for j in r:\n",
    "            if j==0:\n",
    "                return_reb[j]=Start\n",
    "                return_org[j]=Start\n",
    "            else:\n",
    "                return_reb[j]=return_reb[j-1]*(1+np.log(price_reb[j]/price_reb[j-1]))\n",
    "                return_org[j]=return_org[j-1]*(1+np.log(price_org[j]/price_org[j-1]))\n",
    "    r=np.array(Index.index)\n",
    "    plt.plot(r,return_reb, label='rebuild')\n",
    "    plt.plot(r,return_org, label='original')\n",
    "            \n",
    "    plt.legend()"
   ]
  },
  {
   "cell_type": "markdown",
   "metadata": {
    "scrolled": true
   },
   "source": [
    "W=SLAIT(X=Components.pivot(columns='ISIN',values='Daily Return').fillna(1),r=Index['Daily Return'],measure='ETE',eps=1e-6,M=0.1,maxiter=1000)"
   ]
  },
  {
   "cell_type": "markdown",
   "metadata": {
    "scrolled": true
   },
   "source": [
    "CompPrice=UnderlyingDaten\n",
    "CompPrice=pd.merge(CompPrice,W,on='ISIN')\n",
    "CompPrice=CompPrice.set_index(pd.to_datetime(CompPrice.Date)).drop('Date',axis=1)\n",
    "IndexPrice=IndexDaten.set_index(pd.to_datetime(IndexDaten.Date)).drop('Date',axis=1)\n",
    "w=CompPrice.pivot(columns='ISIN',values='Weight').iloc[1,:].fillna(0)\n",
    "CompPrice=CompPrice.pivot(columns='ISIN',values='Index Price').fillna(0)\n",
    "IndexPrice=IndexPrice['Gross Price Index']\n",
    "plot_replicated(w,IndexPrice,CompPrice,Ret=False)\n",
    "print('ETE: ',ETE(CompPrice,IndexPrice,w))\n",
    "print('DR: ',DR(CompPrice,IndexPrice,w))\n",
    "print('# of Components: ',(w>0).sum(),' of ',CompPrice.shape[1])\n",
    "print('Maximum Weigth: ',w.max())"
   ]
  },
  {
   "cell_type": "markdown",
   "metadata": {
    "scrolled": true
   },
   "source": [
    "IndexReturn=Index['Daily Return']\n",
    "CompReturn=np.array(Components.pivot(columns='ISIN',values='Daily Return').fillna(1))\n",
    "w=np.array(W['Weight'])\n",
    "plot_replicated(w,IndexReturn,CompReturn)\n",
    "print('ETE: ',ETE(CompReturn,IndexReturn,w))\n",
    "print('DR: ',DR(CompReturn,IndexReturn,w))\n",
    "print('# of Components: ',(w>0).sum(),' of ',CompReturn.shape[1])"
   ]
  },
  {
   "cell_type": "code",
   "execution_count": null,
   "metadata": {},
   "outputs": [],
   "source": [
    "class portfolio (object):\n",
    "    def __init__(self,weight=None,underlying=None,index=None,components=None):\n",
    "            self.weight=weight\n",
    "            self.underlying=underlying\n",
    "            self.index=index\n",
    "            self.components=components\n",
    "            \n",
    "    def plt_replicated(self,Start=100):\n",
    "        plt.figure(i,figsize=(15,5))\n",
    "        \n",
    "        data=pd.merge_asof(self.underlying,self.weight,on='Date',by='ISIN',direction='backward',allow_exact_matches=False) \\\n",
    "        .dropna()\n",
    "        data['WeightReturn']=data['Weight']*data['Daily Return']\n",
    "        data=data.groupby('Date').sum()\n",
    "        data=pd.merge(data,self.index,on='Date')\n",
    "        \n",
    "    \n",
    "        return_reb=np.array(data['WeightReturn'])\n",
    "        return_org=np.array(data['Daily Return_y'])\n",
    "    \n",
    "        r=range(len(return_reb))\n",
    "    \n",
    "        for j in range(len(return_reb)):\n",
    "            if j==0:\n",
    "                return_reb[j]=Start\n",
    "                return_org[j]=Start\n",
    "            else:\n",
    "                return_reb[j]=return_reb[j-1]*(1+return_reb[j])\n",
    "                return_org[j]=return_org[j-1]*(1+return_org[j])\n",
    "        r=data.index\n",
    "        plt.plot(r,return_reb, label='rebuild')\n",
    "        plt.plot(r,return_org, label='original')\n",
    "\n",
    "        plt.legend()\n",
    "        plt.show()\n",
    "        \n",
    "    def number_components(self):\n",
    "        return self.weight[self.weight['Weight']>0][['Date','ISIN']].groupby('Date').count()\n",
    "    \n",
    "    def compare(self,on,date=None):\n",
    "        if pd.isna(date):\n",
    "            date=self.weight['Date'].max()\n",
    "        data=pd.merge(self.components[date.strftime('%Y%m')],self.weight[self.weight['Date']==date],on='ISIN',how='left').fillna(0)\n",
    "        if self.components[date.strftime('%Y%m')][on].dtype=='float64':\n",
    "            data[on]=round(data[on],0)\n",
    "            print('Rebuild ',on,': ',np.average(data[on], weights=data['Weight']))\n",
    "            print('Index ',on,': ',np.average(data[on], weights=data['Index Weight']))\n",
    "        data.groupby(on).sum()[['Weight','Index Weight']].plot(kind='bar',figsize=(25,5))\n",
    "    \n",
    "    def compare_list(self):\n",
    "        return list(self.components[list(self.components.keys())[0]].keys())\n",
    "    \n",
    "    def ETE(self,ret=True,Start=1):\n",
    "        data=pd.merge_asof(self.underlying,self.weight,on='Date',by='ISIN',direction='backward',allow_exact_matches=False) \\\n",
    "        .dropna()\n",
    "        data['WeightReturn']=data['Weight']*data['Daily Return']\n",
    "        data=data.groupby('Date').sum()\n",
    "        data=pd.merge(data,self.index,on='Date')\n",
    "        return_reb=np.array(data['WeightReturn'])\n",
    "        return_org=np.array(data['Daily Return_y'])\n",
    "        \n",
    "        # Vergleich auf Preisbasis\n",
    "        if ret==False:\n",
    "            for j in range(len(return_reb)):\n",
    "                if j==0:\n",
    "                    return_reb[j]=Start\n",
    "                    return_org[j]=Start\n",
    "                else:\n",
    "                    return_reb[j]=return_reb[j-1]*(1+return_reb[j])\n",
    "                    return_org[j]=return_org[j-1]*(1+return_org[j])\n",
    "                \n",
    "        return norm(return_reb-return_org)**2/len(return_reb)\n",
    "    \n",
    "    def DR(self,ret=True,Start=1):\n",
    "        data=pd.merge_asof(self.underlying,self.weight,on='Date',by='ISIN',direction='backward',allow_exact_matches=False) \\\n",
    "        .dropna()\n",
    "        data['WeightReturn']=data['Weight']*data['Daily Return']\n",
    "        data=data.groupby('Date').sum()\n",
    "        data=pd.merge(data,self.index,on='Date')\n",
    "        return_reb=np.array(data['WeightReturn'])\n",
    "        return_org=np.array(data['Daily Return_y'])\n",
    "        \n",
    "        # Vergleich auf Preisbasis\n",
    "        if ret==False:\n",
    "            for j in range(len(return_reb)):\n",
    "                if j==0:\n",
    "                    return_reb[j]=Start\n",
    "                    return_org[j]=Start\n",
    "                else:\n",
    "                    return_reb[j]=return_reb[j-1]*(1+return_reb[j])\n",
    "                    return_org[j]=return_org[j-1]*(1+return_org[j])\n",
    "                \n",
    "        return norm(np.maximum(return_org-return_reb,0))**2/len(return_org)\n",
    "    \n",
    "    def trading_cost(self,base=100,c=5e-4):\n",
    "        data=self.weight.pivot(columns='Date',values='Weight',index='ISIN').fillna(0)\n",
    "        \n",
    "        for (i,date) in enumerate(data.columns):\n",
    "            if i==0:\n",
    "                cost=0\n",
    "            cost=cost+c*norm(data.iloc[:,i]-data.iloc[:,i-1])            \n",
    "                \n",
    "        return cost*base\n",
    "    \n",
    "    def normalize_weight(self,nominal=None,min_piece=None,weight_step=None,inplace=False):\n",
    "        if not pd.isna(nominal) or not pd.isna(min_piece):\n",
    "            weight_step=min_piece/nominal\n",
    "        elif pd.isna(weight_step):\n",
    "            raise ValueError('No argument given')\n",
    "            \n",
    "        data=self.weight.pivot(columns='Date',values='Weight',index='ISIN').fillna(0)\n",
    "        \n",
    "        for (i,date) in enumerate(data.columns):\n",
    "            if i==0:\n",
    "                data[date]=(round(data[date]/weight_step,0))*weight_step\n",
    "            else:\n",
    "                weight_new=(round(data[date]/weight_step))*weight_step\n",
    "                data.iloc[:,i]=np.where(abs(data.iloc[:,i]-data.iloc[:,i-1])>weight_step,data.iloc[:,i],data.iloc[:,i-1])\n",
    "                #data.iloc[:,i-1]+((data.iloc[:,i]-data.iloc[:,i-1])//weight_step)*weight_step\n",
    "        \n",
    "        data=data.reset_index().melt(value_vars=data.columns,id_vars='ISIN',value_name='Weight')\\\n",
    "            .dropna().reset_index(drop=True)\n",
    "        if inplace:\n",
    "            self.weight=data[['ISIN','Weight','Date']]\n",
    "        else:\n",
    "            return data[['ISIN','Weight','Date']]\n",
    "        "
   ]
  },
  {
   "cell_type": "code",
   "execution_count": null,
   "metadata": {},
   "outputs": [],
   "source": [
    "def MultiPeriod_SLAIT(X,r,Comp,IndexISIN='DE0009682716',Startdate=None,Enddate=None,m_rebal_freq=1,MonthRew=1, \\\n",
    "                      lamb=1e-7,u=1,maxiter=1000,measure='ETE' \\\n",
    "                      ,eps=1e-9,w0=None,M=0.1,gamma=0.2,p=1e-6,thres=1e-3,ret=False):\n",
    "\n",
    "    # Datenvorbereitung\n",
    "    r=r.sort_values('Date',ignore_index=True)\n",
    "    X=X.sort_values(['Date','ISIN'],ignore_index=True)\n",
    "\n",
    "    r=r.set_index(pd.to_datetime(r.Date)).drop('Date',axis=1)\n",
    "    X=X.set_index(pd.to_datetime(X.Date)).drop('Date',axis=1)\n",
    "    \n",
    "    # Standardwert für Zeitraum -> Maximum möglich\n",
    "    if Startdate==None:\n",
    "        Startdate=X.index.min()\n",
    "    if Enddate==None:\n",
    "        Enddate=X.index.max()\n",
    "    \n",
    "    #Filter Indexdaten auf gewünschten Index\n",
    "    r=r[r['ISIN_TRi']==IndexISIN]\n",
    "        \n",
    "    #Initialisierung leeres Portfolio\n",
    "    port=pd.DataFrame()\n",
    "    \n",
    "    # Trennung in Teilzeiträume    \n",
    "    dates=pd.date_range(Startdate,Enddate,freq='M')\n",
    "    \n",
    "    if len(dates)%MonthRew!=0:\n",
    "        raise ValueError('Number of dates available must be multiple of MothRew')\n",
    "    \n",
    "    # Iteration über Zeiträume\n",
    "    for i in range(MonthRew-1,len(dates)-MonthRew,MonthRew):\n",
    "        \n",
    "        #Auswahl der Komponenten für kommenden Zeitraum \n",
    "        Components=Comp[dates[i+1].strftime('%Y%m')]\n",
    "        print('Components: ',Components.shape)\n",
    "\n",
    "        # Filter auf alle Komponentenzeitreihen des Vorzeitraumes und im neuen noch aktiv sind\n",
    "        Underlying=X[(X.index>=dates[i-MonthRew+1].replace(day=1)) & (X.index<=dates[i])]\n",
    "        Underlying=Underlying[Underlying['ISIN'].isin(list(Components['ISIN']))]\n",
    "        \n",
    "        #Bestimmung der Startgewichtung: entweder Startvektor oder aber die Gewichtung des Vorzeitraumes\n",
    "        if port.empty:\n",
    "            w=w0\n",
    "        else:\n",
    "            w=np.array(pd.merge(Underlying,port[port['Date']==port['Date'].max()],on='ISIN',how='left')\\\n",
    "                       .fillna(0).groupby('ISIN').mean()['Weight'])\n",
    "        \n",
    "        # Extraktion Return-Zeitreihen für Index und Underlyings\n",
    "        Underlying=Underlying.pivot(columns='ISIN',values='Daily Return').fillna(1)\n",
    "        print('Underlying: ',Underlying.shape)\n",
    "        Index=r[(r.index>=dates[i-MonthRew+1].replace(day=1)) & (r.index<=dates[i])]\n",
    "        Index=Index['Daily Return']\n",
    "        print('Index: ',Index.shape)\n",
    "        \n",
    "        # Wenn Steuervariable ret = Falsch, dann Umwandlung DailyReturns in fortlaufende Returns\n",
    "        if ret==False:\n",
    "            for j in range(len(Index)):\n",
    "                if j>0:\n",
    "                    Index[j]=Index[j-1]*(1+Index[j])\n",
    "                    Underlying.iloc[j,:]=Underlying.iloc[j-1,:]*(1+Underlying.iloc[j,:])\n",
    "        \n",
    "        result=SLAIT(X=Underlying,r=Index,u=u,measure=measure,eps=eps,M=M,maxiter=maxiter,lamb=lamb,w0=w,gamma=gamma,p=p,thres=thres)\n",
    "        result['Date']=dates[i]\n",
    "        result=result[result['Weight']>0]\n",
    "        \n",
    "        \n",
    "        \n",
    "        port=port.append(result,ignore_index=True)\n",
    "\n",
    "    return portfolio(port,X,r,Comp)"
   ]
  },
  {
   "cell_type": "code",
   "execution_count": null,
   "metadata": {},
   "outputs": [],
   "source": [
    "W_1=MultiPeriod_SLAIT(underlyings_df,indices_df,comp,Startdate='2020-01-01',maxiter=10000)"
   ]
  },
  {
   "cell_type": "markdown",
   "metadata": {},
   "source": [
    "Startdatum='2020-01-01'\n",
    "Enddatum='2021-03-31'\n",
    "\n",
    "IndexISIN='DE0009682716'\n",
    "\n",
    "N=50\n",
    "\n",
    "IndexDaten=indices_df[(indices_df['ISIN_TRi']==IndexISIN) & \n",
    "                      (indices_df['Date']>=Startdatum) & \n",
    "                      (indices_df['Date']<=Enddatum)].sort_values('Date',ignore_index=True)\n",
    "UnderlyingDaten=underlyings_df[(underlyings_df['Date']>=Startdatum) & \n",
    "                      (underlyings_df['Date']<=Enddatum)].sort_values(['Date','ISIN'],ignore_index=True)\n",
    "\n",
    "IndexDaten=IndexDaten.set_index(pd.to_datetime(IndexDaten.Date)).drop('Date',axis=1)\n",
    "UnderlyingDaten=UnderlyingDaten.set_index(pd.to_datetime(UnderlyingDaten.Date)).drop('Date',axis=1)"
   ]
  },
  {
   "cell_type": "code",
   "execution_count": null,
   "metadata": {
    "scrolled": true
   },
   "outputs": [],
   "source": [
    "W_2=MultiPeriod_SLAIT(underlyings_df,indices_df,comp,Startdate='2020-01-01',maxiter=10000,u=0.01)"
   ]
  },
  {
   "cell_type": "code",
   "execution_count": null,
   "metadata": {
    "scrolled": true
   },
   "outputs": [],
   "source": [
    "W_3=MultiPeriod_SLAIT(underlyings_df,indices_df,comp,Startdate='2020-01-01',Enddate='2021-03-31',maxiter=10000,m_rebal_freq=3,MonthRew=3)"
   ]
  },
  {
   "cell_type": "code",
   "execution_count": null,
   "metadata": {},
   "outputs": [],
   "source": [
    "W_4=MultiPeriod_SLAIT(underlyings_df,indices_df,comp,Startdate='2020-01-01',Enddate='2021-03-31',maxiter=10000,m_rebal_freq=3,MonthRew=3,u=0.01)"
   ]
  },
  {
   "cell_type": "code",
   "execution_count": null,
   "metadata": {
    "scrolled": true
   },
   "outputs": [],
   "source": [
    "W_1.number_components()"
   ]
  },
  {
   "cell_type": "code",
   "execution_count": null,
   "metadata": {},
   "outputs": [],
   "source": [
    "W_2.number_components()"
   ]
  },
  {
   "cell_type": "code",
   "execution_count": null,
   "metadata": {},
   "outputs": [],
   "source": [
    "W_3.number_components()"
   ]
  },
  {
   "cell_type": "code",
   "execution_count": null,
   "metadata": {},
   "outputs": [],
   "source": [
    "W_4.number_components()"
   ]
  },
  {
   "cell_type": "code",
   "execution_count": null,
   "metadata": {},
   "outputs": [],
   "source": [
    "W_4.index['Number of Bonds'].max()"
   ]
  },
  {
   "cell_type": "code",
   "execution_count": null,
   "metadata": {},
   "outputs": [],
   "source": [
    "W_4.index['Number of Bonds'].min()"
   ]
  },
  {
   "cell_type": "code",
   "execution_count": null,
   "metadata": {},
   "outputs": [],
   "source": [
    "W_1.plt_replicated()"
   ]
  },
  {
   "cell_type": "code",
   "execution_count": null,
   "metadata": {},
   "outputs": [],
   "source": [
    "W_2.plt_replicated()"
   ]
  },
  {
   "cell_type": "code",
   "execution_count": null,
   "metadata": {},
   "outputs": [],
   "source": [
    "W_3.plt_replicated()"
   ]
  },
  {
   "cell_type": "code",
   "execution_count": null,
   "metadata": {},
   "outputs": [],
   "source": [
    "W_4.plt_replicated()"
   ]
  },
  {
   "cell_type": "code",
   "execution_count": null,
   "metadata": {},
   "outputs": [],
   "source": [
    "print('Portfolio 1 -> ETE: ',W_1.ETE(),' DR: ',W_1.DR(),' TC: ',W_1.trading_cost())\n",
    "print('Portfolio 2 -> ETE: ',W_2.ETE(),' DR: ',W_2.DR(),' TC: ',W_2.trading_cost())\n",
    "print('Portfolio 3 -> ETE: ',W_3.ETE(),' DR: ',W_3.DR(),' TC: ',W_3.trading_cost())\n",
    "print('Portfolio 4 -> ETE: ',W_4.ETE(),' DR: ',W_4.DR(),' TC: ',W_4.trading_cost())"
   ]
  },
  {
   "cell_type": "code",
   "execution_count": null,
   "metadata": {},
   "outputs": [],
   "source": [
    "W_4.compare('Issuer Country')"
   ]
  },
  {
   "cell_type": "code",
   "execution_count": null,
   "metadata": {
    "scrolled": true
   },
   "outputs": [],
   "source": [
    "W_4.compare('Annual Modified Duration')"
   ]
  },
  {
   "cell_type": "code",
   "execution_count": null,
   "metadata": {
    "scrolled": true
   },
   "outputs": [],
   "source": [
    "W_4.compare('Level 2')"
   ]
  },
  {
   "cell_type": "code",
   "execution_count": null,
   "metadata": {
    "scrolled": false
   },
   "outputs": [],
   "source": [
    "W_4.compare('Coupon')"
   ]
  },
  {
   "cell_type": "code",
   "execution_count": null,
   "metadata": {
    "scrolled": false
   },
   "outputs": [],
   "source": [
    "W_4.compare('Time to Maturity')"
   ]
  },
  {
   "cell_type": "code",
   "execution_count": null,
   "metadata": {
    "scrolled": true
   },
   "outputs": [],
   "source": [
    "W_4.compare('Markit iBoxx Rating')"
   ]
  },
  {
   "cell_type": "code",
   "execution_count": null,
   "metadata": {
    "scrolled": true
   },
   "outputs": [],
   "source": [
    "W_4.compare('Asset Swap Margin')"
   ]
  },
  {
   "cell_type": "code",
   "execution_count": null,
   "metadata": {
    "scrolled": true
   },
   "outputs": [],
   "source": [
    "W_4.compare('Annual Yield')"
   ]
  },
  {
   "cell_type": "code",
   "execution_count": null,
   "metadata": {
    "scrolled": true
   },
   "outputs": [],
   "source": [
    "W_4.compare('Country Of Risk')"
   ]
  },
  {
   "cell_type": "code",
   "execution_count": null,
   "metadata": {},
   "outputs": [],
   "source": [
    "W_4.compare_list()"
   ]
  },
  {
   "cell_type": "code",
   "execution_count": null,
   "metadata": {},
   "outputs": [],
   "source": [
    "W_4_Mod=portfolio(W_4.weight,W_4.underlying,W_4.index,W_4.components)"
   ]
  },
  {
   "cell_type": "code",
   "execution_count": null,
   "metadata": {},
   "outputs": [],
   "source": [
    "W_4_Mod.normalize_weight(nominal=300000000,min_piece=100000,inplace=True)"
   ]
  },
  {
   "cell_type": "code",
   "execution_count": null,
   "metadata": {},
   "outputs": [],
   "source": [
    "W_4_Mod.trading_cost()"
   ]
  },
  {
   "cell_type": "code",
   "execution_count": null,
   "metadata": {},
   "outputs": [],
   "source": [
    "print('Portfolio 4 -> ETE: ',W_4_Mod.ETE(),' DR: ',W_4_Mod.DR(),' TC: ',W_4_Mod.trading_cost())"
   ]
  },
  {
   "cell_type": "code",
   "execution_count": null,
   "metadata": {
    "scrolled": true
   },
   "outputs": [],
   "source": [
    "W_4_Mod.plt_replicated()"
   ]
  },
  {
   "cell_type": "code",
   "execution_count": null,
   "metadata": {},
   "outputs": [],
   "source": [
    "W_4_Mod.number_components()"
   ]
  },
  {
   "cell_type": "code",
   "execution_count": null,
   "metadata": {},
   "outputs": [],
   "source": [
    "W_4_Mod.weight.max()"
   ]
  },
  {
   "cell_type": "code",
   "execution_count": null,
   "metadata": {},
   "outputs": [],
   "source": [
    "W_4_Mod.components['202101'][W_4_Mod.components['202101'].ISIN=='XS2063535970']"
   ]
  },
  {
   "cell_type": "code",
   "execution_count": null,
   "metadata": {},
   "outputs": [],
   "source": [
    "from datetime import datetime \n",
    "from dateutil import tz \n",
    "W_4.weight.to_csv('results/W_4_Weight_'+datetime.now(tz.gettz('GMT+2')).strftime('%Y%m%d_%H%M%S')+'.csv',sep='\\t',decimal=',')\n",
    "W_1.weight.to_csv('results/W_1_Weight'+datetime.now(tz.gettz('GMT+2')).strftime('%Y%m%d_%H%M%S')+'.csv',sep='\\t',decimal=',')\n",
    "W_2.weight.to_csv('results/W_2_Weight'+datetime.now(tz.gettz('GMT+2')).strftime('%Y%m%d_%H%M%S')+'.csv',sep='\\t',decimal=',')\n",
    "W_3.weight.to_csv('results/W_3_Weight'+datetime.now(tz.gettz('GMT+2')).strftime('%Y%m%d_%H%M%S')+'.csv',sep='\\t',decimal=',')"
   ]
  },
  {
   "cell_type": "code",
   "execution_count": null,
   "metadata": {},
   "outputs": [],
   "source": [
    "indices_df[indices_df['BBG_Ticker_TRi']=='I4BL']"
   ]
  },
  {
   "cell_type": "code",
   "execution_count": null,
   "metadata": {},
   "outputs": [],
   "source": [
    "W_4_corp=MultiPeriod_SLAIT(underlyings_df,indices_df,comp,IndexISIN='DE000A0G84N4',Startdate='2020-01-01',Enddate='2021-03-31',maxiter=10000,m_rebal_freq=3,MonthRew=3,u=0.01)"
   ]
  },
  {
   "cell_type": "code",
   "execution_count": null,
   "metadata": {},
   "outputs": [],
   "source": [
    "W_4_ret=MultiPeriod_SLAIT(underlyings_df,indices_df,comp,Startdate='2020-01-01',Enddate='2021-03-31',maxiter=1000,m_rebal_freq=1,MonthRew=1,u=0.01)"
   ]
  },
  {
   "cell_type": "code",
   "execution_count": null,
   "metadata": {},
   "outputs": [],
   "source": [
    "W_4_ret.plt_replicated()"
   ]
  },
  {
   "cell_type": "code",
   "execution_count": null,
   "metadata": {},
   "outputs": [],
   "source": [
    "W_4_ret=portfolio(W_4_ret.weight,W_4_ret.underlying,W_4_ret.index,W_4_ret.components)"
   ]
  },
  {
   "cell_type": "code",
   "execution_count": null,
   "metadata": {},
   "outputs": [],
   "source": [
    "W_4_ret.ETE(ret=False)"
   ]
  },
  {
   "cell_type": "code",
   "execution_count": null,
   "metadata": {},
   "outputs": [],
   "source": [
    "W_4_ret.number_components()"
   ]
  },
  {
   "cell_type": "code",
   "execution_count": null,
   "metadata": {},
   "outputs": [],
   "source": []
  }
 ],
 "metadata": {
  "kernelspec": {
   "display_name": "Python 3",
   "language": "python",
   "name": "python3"
  },
  "language_info": {
   "codemirror_mode": {
    "name": "ipython",
    "version": 3
   },
   "file_extension": ".py",
   "mimetype": "text/x-python",
   "name": "python",
   "nbconvert_exporter": "python",
   "pygments_lexer": "ipython3",
   "version": "3.7.6"
  }
 },
 "nbformat": 4,
 "nbformat_minor": 2
}
